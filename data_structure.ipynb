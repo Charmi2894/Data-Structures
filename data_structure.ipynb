{
  "cells": [
    {
      "cell_type": "markdown",
      "source": [
        "# DATA STRUCTURES"
      ],
      "metadata": {
        "id": "-Nj11wfWFsj5"
      },
      "id": "-Nj11wfWFsj5"
    },
    {
      "cell_type": "markdown",
      "id": "da984de0",
      "metadata": {
        "id": "da984de0"
      },
      "source": [
        "# THEORY QUESTIONS"
      ]
    },
    {
      "cell_type": "markdown",
      "id": "274f15d7",
      "metadata": {
        "id": "274f15d7"
      },
      "source": [
        "1. What are data structures, and why are they important?\n",
        "    - Data Structures :-\n",
        "        - Data structures in python are specalized format used to store and organize the data.\n",
        "        - It is used for storing, organizing and manipulating data effectively.\n",
        "    - Importance of data structure :-\n",
        "        - Data structure helps with storing data so that we can also get information from that data.\n",
        "        - Organizing data is another important role of data structure that helps us to get data in many forms such as raw data, pattern data, graph data, etc.\n",
        "        - Data can be easily fetched once it is stored.\n",
        "        - Data structure make our work easy to store data and also perform many tasks on our data through built-in functions."
      ]
    },
    {
      "cell_type": "markdown",
      "id": "7b2ef101",
      "metadata": {
        "id": "7b2ef101"
      },
      "source": [
        "2.  Explain the difference between mutable and immutable data types with examples.\n",
        "    - Mutable data types :- This data types values are changeable we can edit and update the values.Example are list, int, float.\n",
        "    - Immutable data types :- This data types values aren't changeable.\n",
        "    Example are tuple, string."
      ]
    },
    {
      "cell_type": "code",
      "execution_count": null,
      "id": "4f80992b",
      "metadata": {
        "id": "4f80992b",
        "outputId": "87f55216-8320-4d46-ba69-9b8ca438cca1"
      },
      "outputs": [
        {
          "name": "stdout",
          "output_type": "stream",
          "text": [
            "[-1, 1]\n"
          ]
        },
        {
          "ename": "TypeError",
          "evalue": "'tuple' object does not support item assignment",
          "output_type": "error",
          "traceback": [
            "\u001b[31m---------------------------------------------------------------------------\u001b[39m",
            "\u001b[31mTypeError\u001b[39m                                 Traceback (most recent call last)",
            "\u001b[36mCell\u001b[39m\u001b[36m \u001b[39m\u001b[32mIn[27]\u001b[39m\u001b[32m, line 6\u001b[39m\n\u001b[32m      4\u001b[39m l[\u001b[32m0\u001b[39m] = -\u001b[32m1\u001b[39m\n\u001b[32m      5\u001b[39m \u001b[38;5;28mprint\u001b[39m(l)\n\u001b[32m----> \u001b[39m\u001b[32m6\u001b[39m \u001b[43mt\u001b[49m\u001b[43m[\u001b[49m\u001b[32;43m0\u001b[39;49m\u001b[43m]\u001b[49m = -\u001b[32m1\u001b[39m\n\u001b[32m      7\u001b[39m \u001b[38;5;28mprint\u001b[39m(t)\n",
            "\u001b[31mTypeError\u001b[39m: 'tuple' object does not support item assignment"
          ]
        }
      ],
      "source": [
        "#Example of Question 2\n",
        "l = [0,1] #list is mutable\n",
        "t = (0,1) #tuple is immutable\n",
        "l[0] = -1\n",
        "print(l)\n",
        "t[0] = -1\n",
        "print(t)"
      ]
    },
    {
      "cell_type": "markdown",
      "id": "10ebd2c5",
      "metadata": {
        "id": "10ebd2c5"
      },
      "source": [
        "3. What are the main differences between lists and tuples in Python?\n",
        "    - Difference Between Lists & Tuple:-\n",
        "        - Lists are mutable and tuples are immutable.\n",
        "        - Lists are defined with [] and tuples are defined with ()\n",
        "        - Lists are generally slower due to dynamic nature and tuple are faster as they are immutable."
      ]
    },
    {
      "cell_type": "markdown",
      "id": "61ead94d",
      "metadata": {
        "id": "61ead94d"
      },
      "source": [
        "4. Describe how dictionaries store data.\n",
        "    - Dictionaries stores data in key-value form.\n",
        "    - Example {key : value, key : value,...}"
      ]
    },
    {
      "cell_type": "markdown",
      "id": "10b276ca",
      "metadata": {
        "id": "10b276ca"
      },
      "source": [
        "5. Why might you use a set instead of a list in Python?\n",
        "    - To use data that is not doubled.\n",
        "    - Also for efficient operations like union, intersection."
      ]
    },
    {
      "cell_type": "markdown",
      "id": "4967f2af",
      "metadata": {
        "id": "4967f2af"
      },
      "source": [
        "6. What is a string in Python, and how is it different from a list?\n",
        "    - String are immutable means they are not changeable.\n",
        "    - String does not store integer values, float values but list do.\n",
        "    - String stores single values as list store many values."
      ]
    },
    {
      "cell_type": "markdown",
      "id": "4941664f",
      "metadata": {
        "id": "4941664f"
      },
      "source": [
        "7. How do tuples ensure data integrity in Python?\n",
        "    - Tuple are immutable there contents are not changeable.\n",
        "    - Tuples are thread-safe because multiple threads cannot modify the same tuple simultaneously."
      ]
    },
    {
      "cell_type": "markdown",
      "id": "8c3e6cc7",
      "metadata": {
        "id": "8c3e6cc7"
      },
      "source": [
        "8. What is a hash table, and how does it relate to dictionaries in Python?\n",
        "    - A hash table is a data structure that stores key-value pairs and uses a hash function to compute an index (called a hash code) into an array where the value is stored.\n",
        "    - In Python, the built-in dict type is implemented using a hash table internally.\n",
        "    - When you write my_dict['name'] = 'Charmi', Python:\n",
        "        - Hashes the key 'name'.\n",
        "        - Finds an index in the internal array.\n",
        "        - Stores the value 'Charmi' at that index."
      ]
    },
    {
      "cell_type": "markdown",
      "id": "49afc532",
      "metadata": {
        "id": "49afc532"
      },
      "source": [
        "9.  Can lists contain different data types in Python?\n",
        "    - Python lists are heterogeneous, meaning they can store elements of any type. This flexibility comes from Python dynamic typing system."
      ]
    },
    {
      "cell_type": "markdown",
      "id": "8d4b8a5e",
      "metadata": {
        "id": "8d4b8a5e"
      },
      "source": [
        "10. Explain why strings are immutable in Python?\n",
        "    - Python may reuse string objects with the same value.\n",
        "    - Immutability makes strings safe to use across threads.\n",
        "    - Functions that take strings as input can rely on them not changing."
      ]
    },
    {
      "cell_type": "markdown",
      "id": "f006d595",
      "metadata": {
        "id": "f006d595"
      },
      "source": [
        "11. What advantages do dictionaries offer over lists for certain tasks?\n",
        "    - Dictionaries provide constant-time access to values using keys.\n",
        "    - In dictionaries, data is accessed by meaningful keys.\n",
        "    - Dictionaries are ideal for storing structured information.\n",
        "    - Each key in a dictionary is unique, helping avoid accidental duplication."
      ]
    },
    {
      "cell_type": "markdown",
      "id": "11676caf",
      "metadata": {
        "id": "11676caf"
      },
      "source": [
        "12. Describe a scenario where using a tuple would be preferable over a list.\n",
        "    - Scenario: Suppose you're writing a function that calculates a student's name, total marks, and percentage. You don't want these values to be accidentally modified after the function returns them."
      ]
    },
    {
      "cell_type": "markdown",
      "id": "17aee03f",
      "metadata": {
        "id": "17aee03f"
      },
      "source": [
        "13. How do sets handle duplicate values in Python?\n",
        "    - A set is an unordered collection of unique elements. So it remove the duplicate values."
      ]
    },
    {
      "cell_type": "markdown",
      "id": "b056dc19",
      "metadata": {
        "id": "b056dc19"
      },
      "source": [
        "14. How does the “in” keyword work differently for lists and dictionaries?\n",
        "    - Lists \"in\" keyword is used to find the values.\n",
        "    - Dictionaries \"in\" keyword is used to find the keys."
      ]
    },
    {
      "cell_type": "markdown",
      "id": "8f8f9c39",
      "metadata": {
        "id": "8f8f9c39"
      },
      "source": [
        "15. Can you modify the elements of a tuple? Explain why or why not?\n",
        "    - No we cannot modify the value in tuple because tuple cannot change its value.\n",
        "    - They are immutable."
      ]
    },
    {
      "cell_type": "markdown",
      "id": "8e3a5e90",
      "metadata": {
        "id": "8e3a5e90"
      },
      "source": [
        "16. What is a nested dictionary, and give an example of its use case?\n",
        "    - Nested dictionary is dictionary inside other dictionary.\n",
        "  "
      ]
    },
    {
      "cell_type": "code",
      "source": [
        "#Example of 16\n",
        "students = {\n",
        "    \"ABC\": {\"age\": 16,\"class\": \"10th\",\"marks\": {\"math\": 88, \"science\": 92}},\n",
        "    \"XYZ\": {\"age\": 15,\"class\": \"9th\",\"marks\": {\"math\": 95, \"science\": 89}}\n",
        "}\n",
        "print(students)\n"
      ],
      "metadata": {
        "colab": {
          "base_uri": "https://localhost:8080/"
        },
        "id": "lqXlxEv1KOtD",
        "outputId": "282fa156-45b9-47d4-bd9c-a1d08e5a9b0b"
      },
      "id": "lqXlxEv1KOtD",
      "execution_count": 2,
      "outputs": [
        {
          "output_type": "stream",
          "name": "stdout",
          "text": [
            "{'ABC': {'age': 16, 'class': '10th', 'marks': {'math': 88, 'science': 92}}, 'XYZ': {'age': 15, 'class': '9th', 'marks': {'math': 95, 'science': 89}}}\n"
          ]
        }
      ]
    },
    {
      "cell_type": "markdown",
      "id": "9a2ae3cf",
      "metadata": {
        "id": "9a2ae3cf"
      },
      "source": [
        "17. Describe the time complexity of accessing elements in a dictionary.\n",
        "    - In Python, accessing an element in a dictionary by key has an average-case time complexity of: O(1) — Constant Time."
      ]
    },
    {
      "cell_type": "markdown",
      "id": "dc2c6db0",
      "metadata": {
        "id": "dc2c6db0"
      },
      "source": [
        "18. In what situations are lists preferred over dictionaries?\n",
        "    - Lists preserve insertion order and use numeric indexes.\n",
        "    - If there's no natural \"key\" to represent items a dictionary adds unnecessary complexity.\n",
        "    - Lists use less memory than dictionaries for the same number of values, since they don't store key-value pairs.\n",
        "    - Lists are better for looping over values directly."
      ]
    },
    {
      "cell_type": "markdown",
      "id": "761da8ba",
      "metadata": {
        "id": "761da8ba"
      },
      "source": [
        "19. Why are dictionaries considered unordered, and how does that affect data retrieval?\n",
        "  - The order in which key-value pairs were inserted was not guaranteed when retrieved."
      ]
    },
    {
      "cell_type": "markdown",
      "id": "33d27033",
      "metadata": {
        "id": "33d27033"
      },
      "source": [
        "20. Explain the difference between a list and a dictionary in terms of data retrieval.\n",
        "  - Lists Data Retrieval:-\n",
        "    - Uses integer index: O(1) if index is known. Not efficient for searching by value: O(n) (linear time)\n",
        "  - Dictionary Data Retrieval:-\n",
        "    - Uses hash table: O(1) average time complexity.Very efficient for lookup by key, regardless of size."
      ]
    },
    {
      "cell_type": "markdown",
      "id": "ceff6397",
      "metadata": {
        "id": "ceff6397"
      },
      "source": [
        "# PRACTICAL QUESTIONS"
      ]
    },
    {
      "cell_type": "code",
      "execution_count": null,
      "id": "1f282bc8",
      "metadata": {
        "id": "1f282bc8",
        "outputId": "0afc3578-0c91-4a96-e827-7e6f8619bf1f"
      },
      "outputs": [
        {
          "name": "stdout",
          "output_type": "stream",
          "text": [
            "Charmi Andharia\n"
          ]
        }
      ],
      "source": [
        "# 1.  Write a code to create a string with your name and print it.\n",
        "my_name = \"Charmi Andharia\"\n",
        "print(my_name)"
      ]
    },
    {
      "cell_type": "code",
      "execution_count": null,
      "id": "6df89d01",
      "metadata": {
        "id": "6df89d01",
        "outputId": "9fbf0cf4-b8e3-473c-88a8-94d134cd8153"
      },
      "outputs": [
        {
          "name": "stdout",
          "output_type": "stream",
          "text": [
            "Lenght of  Hello World  is  11\n"
          ]
        }
      ],
      "source": [
        "# 2. Write a code to find the length of the string \"Hello World\".\n",
        "string = \"Hello World\"\n",
        "print(\"Length of \",string,\" is \",len(string))"
      ]
    },
    {
      "cell_type": "code",
      "execution_count": null,
      "id": "5398dc5e",
      "metadata": {
        "id": "5398dc5e",
        "outputId": "be760716-33c6-4efa-84be-24fa0e69318c"
      },
      "outputs": [
        {
          "name": "stdout",
          "output_type": "stream",
          "text": [
            "Pyt\n"
          ]
        }
      ],
      "source": [
        "# 3. Write a code to slice the first 3 characters from the string \"Python Programming\".\n",
        "str1 = \"Python Programming\"\n",
        "slice_char = str1[:3]\n",
        "print(slice_char)"
      ]
    },
    {
      "cell_type": "code",
      "execution_count": null,
      "id": "2c3e5ab3",
      "metadata": {
        "id": "2c3e5ab3",
        "outputId": "da92bba4-01f2-4b0f-d22e-2b25daa7f613"
      },
      "outputs": [
        {
          "name": "stdout",
          "output_type": "stream",
          "text": [
            "HELLO\n"
          ]
        }
      ],
      "source": [
        "# 4.Write a code to convert the string \"hello\" to uppercase.\n",
        "string1 = \"hello\"\n",
        "print(string1.upper())"
      ]
    },
    {
      "cell_type": "code",
      "execution_count": null,
      "id": "af873aae",
      "metadata": {
        "id": "af873aae",
        "outputId": "bc745a43-d688-4e4d-8045-7b62e4bfa699"
      },
      "outputs": [
        {
          "name": "stdout",
          "output_type": "stream",
          "text": [
            "I like orange\n"
          ]
        }
      ],
      "source": [
        "# 5. Write a code to replace the word \"apple\" with \"orange\" in the string \"I like apple\".\n",
        "fruits = \"I like apple\"\n",
        "change_fruit = fruits.replace(\"apple\",\"orange\")\n",
        "print(change_fruit)"
      ]
    },
    {
      "cell_type": "code",
      "execution_count": null,
      "id": "e44f8870",
      "metadata": {
        "id": "e44f8870",
        "outputId": "eae3c6a8-0604-49a5-bb06-1ef7694dd1fb"
      },
      "outputs": [
        {
          "name": "stdout",
          "output_type": "stream",
          "text": [
            "[1, 2, 3, 4, 5]\n"
          ]
        }
      ],
      "source": [
        "# 6.  Write a code to create a list with numbers 1 to 5 and print it.\n",
        "lst = [1,2,3,4,5]\n",
        "print(lst)"
      ]
    },
    {
      "cell_type": "code",
      "execution_count": null,
      "id": "f8660a53",
      "metadata": {
        "id": "f8660a53",
        "outputId": "1a5ecff6-0482-40c1-8773-5112b48b7d3d"
      },
      "outputs": [
        {
          "data": {
            "text/plain": [
              "[1, 2, 3, 4, 10]"
            ]
          },
          "execution_count": 12,
          "metadata": {},
          "output_type": "execute_result"
        }
      ],
      "source": [
        "# 7. Write a code to append the number 10 to the list [1, 2, 3, 4].\n",
        "list1 = [1,2,3,4]\n",
        "list1.append(10)\n",
        "list1"
      ]
    },
    {
      "cell_type": "code",
      "execution_count": null,
      "id": "63963fa9",
      "metadata": {
        "id": "63963fa9",
        "outputId": "ea4e6e97-bf98-4fb3-af5c-3ac35f2daf5c"
      },
      "outputs": [
        {
          "data": {
            "text/plain": [
              "[1, 2, 4, 5]"
            ]
          },
          "execution_count": 14,
          "metadata": {},
          "output_type": "execute_result"
        }
      ],
      "source": [
        "# 8. Write a code to remove the number 3 from the list [1, 2, 3, 4, 5].\n",
        "lst = [1,2,3,4,5]\n",
        "lst.remove(3)\n",
        "lst"
      ]
    },
    {
      "cell_type": "code",
      "execution_count": null,
      "id": "95b22c97",
      "metadata": {
        "id": "95b22c97",
        "outputId": "78d6b88c-d7af-462c-d66d-d021b030c1ca"
      },
      "outputs": [
        {
          "data": {
            "text/plain": [
              "'b'"
            ]
          },
          "execution_count": 16,
          "metadata": {},
          "output_type": "execute_result"
        }
      ],
      "source": [
        "# 9. Write a code to access the second element in the list ['a', 'b', 'c', 'd'].\n",
        "alpha_lst =  ['a', 'b', 'c', 'd']\n",
        "alpha_lst[1]"
      ]
    },
    {
      "cell_type": "code",
      "execution_count": null,
      "id": "f59874e5",
      "metadata": {
        "id": "f59874e5",
        "outputId": "832d5155-b6e4-413f-fb69-0cc094214bed"
      },
      "outputs": [
        {
          "data": {
            "text/plain": [
              "[50, 40, 30, 20, 10]"
            ]
          },
          "execution_count": 17,
          "metadata": {},
          "output_type": "execute_result"
        }
      ],
      "source": [
        "# 10. Write a code to reverse the list [10, 20, 30, 40, 50].\n",
        "num_lst = [10,20,30,40,50]\n",
        "num_lst.reverse()\n",
        "num_lst"
      ]
    },
    {
      "cell_type": "code",
      "execution_count": null,
      "id": "a4ef5f37",
      "metadata": {
        "id": "a4ef5f37",
        "outputId": "dcba4732-d10d-4a6b-a40a-6d6f672f6549"
      },
      "outputs": [
        {
          "name": "stdout",
          "output_type": "stream",
          "text": [
            "(100, 200, 300)\n"
          ]
        }
      ],
      "source": [
        "# 11. Write a code to create a tuple with the elements 100, 200, 300 and print it.\n",
        "tuple1 = (100,200,300)\n",
        "print(tuple1)"
      ]
    },
    {
      "cell_type": "code",
      "execution_count": null,
      "id": "9dc9e209",
      "metadata": {
        "id": "9dc9e209",
        "outputId": "1fae115e-c9a3-451b-e13f-84e4efe34378"
      },
      "outputs": [
        {
          "data": {
            "text/plain": [
              "('green', 'blue', 'yellow')"
            ]
          },
          "execution_count": 19,
          "metadata": {},
          "output_type": "execute_result"
        }
      ],
      "source": [
        "# 12.  Write a code to access the second-to-last element of the tuple ('red', 'green', 'blue', 'yellow').\n",
        "tuple_colors = ('red', 'green', 'blue', 'yellow')\n",
        "tuple_colors[1:]"
      ]
    },
    {
      "cell_type": "code",
      "execution_count": null,
      "id": "ca6d3e1a",
      "metadata": {
        "id": "ca6d3e1a",
        "outputId": "bb96b99f-a819-4492-fc05-910544ed117e"
      },
      "outputs": [
        {
          "name": "stdout",
          "output_type": "stream",
          "text": [
            "5\n"
          ]
        }
      ],
      "source": [
        "# 13. Write a code to find the minimum number in the tuple (10, 20, 5, 15).\n",
        "tuple_num = (10,20,5,15)\n",
        "print(min(tuple_num))"
      ]
    },
    {
      "cell_type": "code",
      "execution_count": null,
      "id": "cbd8f63a",
      "metadata": {
        "id": "cbd8f63a",
        "outputId": "d973ae27-1c92-4c4c-efef-d83a18c59cea"
      },
      "outputs": [
        {
          "name": "stdout",
          "output_type": "stream",
          "text": [
            "1\n"
          ]
        }
      ],
      "source": [
        "# 14. Write a code to find the index of the element \"cat\" in the tuple ('dog', 'cat', 'rabbit').\n",
        "pets = ('dog', 'cat', 'rabbit')\n",
        "print(pets.index('cat'))"
      ]
    },
    {
      "cell_type": "code",
      "execution_count": null,
      "id": "565fcb3f",
      "metadata": {
        "id": "565fcb3f",
        "outputId": "2319aca6-dd04-4709-b973-c93b5903d584"
      },
      "outputs": [
        {
          "name": "stdout",
          "output_type": "stream",
          "text": [
            "Kiwi is present in tuple\n"
          ]
        }
      ],
      "source": [
        "# 15. Write a code to create a tuple containing three different fruits and check if \"kiwi\" is in it.\n",
        "fav_fruits = (\"apple\",\"mango\",\"dragon\",\"kiwi\")\n",
        "if \"kiwi\" in fav_fruits:\n",
        "    print(\"Kiwi is present in tuple\")\n",
        "else:\n",
        "    print(\"Kiwi is not present in tuple\")"
      ]
    },
    {
      "cell_type": "code",
      "execution_count": null,
      "id": "32373e18",
      "metadata": {
        "id": "32373e18",
        "outputId": "8f292f3c-a246-4baf-b69b-6552d7c455bf"
      },
      "outputs": [
        {
          "name": "stdout",
          "output_type": "stream",
          "text": [
            "{'c', 'a', 'b'}\n"
          ]
        }
      ],
      "source": [
        "# 16. Write a code to create a set with the elements 'a', 'b', 'c' and print it.\n",
        "set1 = {'a','b','c'}\n",
        "print(set1)"
      ]
    },
    {
      "cell_type": "code",
      "execution_count": null,
      "id": "af5cc8d1",
      "metadata": {
        "id": "af5cc8d1",
        "outputId": "3a616d59-fba2-4380-cee6-e1178576e120"
      },
      "outputs": [
        {
          "name": "stdout",
          "output_type": "stream",
          "text": [
            "{1, 2, 3, 4, 5}\n",
            "set()\n"
          ]
        }
      ],
      "source": [
        "# 17. Write a code to clear all elements from the set {1, 2, 3, 4, 5}.\n",
        "set_num = {1,2,3,4,5}\n",
        "print(set_num)\n",
        "set_num.clear()\n",
        "print(set_num)"
      ]
    },
    {
      "cell_type": "code",
      "execution_count": null,
      "id": "3c803f9d",
      "metadata": {
        "id": "3c803f9d",
        "outputId": "9573e55b-1028-4b98-a3b4-22f5b11b1b02"
      },
      "outputs": [
        {
          "name": "stdout",
          "output_type": "stream",
          "text": [
            "{1, 2, 3}\n"
          ]
        }
      ],
      "source": [
        "# 18. Write a code to remove the element 4 from the set {1, 2, 3, 4}.\n",
        "sets = {1,2,3,4}\n",
        "set_remove = sets.remove(4)\n",
        "print(sets)"
      ]
    },
    {
      "cell_type": "code",
      "execution_count": null,
      "id": "8b03696e",
      "metadata": {
        "id": "8b03696e",
        "outputId": "c73712e7-b834-4c3c-fa8c-a587b3d783d4"
      },
      "outputs": [
        {
          "data": {
            "text/plain": [
              "{1, 2, 3, 4, 5}"
            ]
          },
          "execution_count": 34,
          "metadata": {},
          "output_type": "execute_result"
        }
      ],
      "source": [
        "# 19. Write a code to find the union of two sets {1, 2, 3} and {3, 4, 5}.\n",
        "union_sets1 = {1,2,3}\n",
        "union_sets2 = {3,4,5}\n",
        "union_sets1.union(union_sets2)"
      ]
    },
    {
      "cell_type": "code",
      "execution_count": null,
      "id": "25c09b15",
      "metadata": {
        "id": "25c09b15",
        "outputId": "dc6bb02a-5deb-45bb-f04f-4797ec0fa9d3"
      },
      "outputs": [
        {
          "data": {
            "text/plain": [
              "{2, 3}"
            ]
          },
          "execution_count": 35,
          "metadata": {},
          "output_type": "execute_result"
        }
      ],
      "source": [
        "# 20. Write a code to find the intersection of two sets {1, 2, 3} and {2, 3, 4}.\n",
        "set01 = {1,2,3}\n",
        "set02 = {2,3,4}\n",
        "set01.intersection(set02)"
      ]
    },
    {
      "cell_type": "code",
      "execution_count": null,
      "id": "f88ccc74",
      "metadata": {
        "id": "f88ccc74",
        "outputId": "ff3327eb-6278-4266-d644-ff2f3f2ec830"
      },
      "outputs": [
        {
          "name": "stdout",
          "output_type": "stream",
          "text": [
            "{'name': 'charmi', 'age': '20', 'city': 'bhavnagar'}\n"
          ]
        }
      ],
      "source": [
        "# 21. Write a code to create a dictionary with the keys \"name\", \"age\", and \"city\", and print it.\n",
        "dict1 = {\"name\":\"charmi\",\"age\":\"20\",\"city\":\"bhavnagar\"}\n",
        "print(dict1)"
      ]
    },
    {
      "cell_type": "code",
      "execution_count": null,
      "id": "e0030f6e",
      "metadata": {
        "id": "e0030f6e",
        "outputId": "aa7b54cb-73ae-4ee5-ad58-5e7271b2590b"
      },
      "outputs": [
        {
          "data": {
            "text/plain": [
              "{'name': 'charmi', 'age': '20', 'city': 'bhavnagar', 'country': 'India'}"
            ]
          },
          "execution_count": 37,
          "metadata": {},
          "output_type": "execute_result"
        }
      ],
      "source": [
        "# 22. Write a code to add a new key-value pair \"country\": \"USA\" to the dictionary {'name': 'John', 'age': 25}.\n",
        "dict1.update({\"country\":\"India\"})\n",
        "dict1"
      ]
    },
    {
      "cell_type": "code",
      "execution_count": null,
      "id": "fe0b6b55",
      "metadata": {
        "id": "fe0b6b55",
        "outputId": "ef69cd18-4411-4883-ac27-df4dff6cabf8"
      },
      "outputs": [
        {
          "name": "stdout",
          "output_type": "stream",
          "text": [
            "My name is Alice\n"
          ]
        }
      ],
      "source": [
        "# 23.  Write a code to access the value associated with the key \"name\" in the dictionary {'name': 'Alice', 'age': 30}.\n",
        "personal_details = {'name': 'Alice', 'age': 30}\n",
        "name_value = personal_details['name']\n",
        "print(\"My name is\",name_value)"
      ]
    },
    {
      "cell_type": "code",
      "execution_count": null,
      "id": "26961fce",
      "metadata": {
        "id": "26961fce",
        "outputId": "cff5ebee-84d1-4c40-a8e6-b2b729998cf4"
      },
      "outputs": [
        {
          "name": "stdout",
          "output_type": "stream",
          "text": [
            "{'name': 'Bob', 'city': 'New York'}\n"
          ]
        }
      ],
      "source": [
        "# 24. Write a code to remove the key \"age\" from the dictionary {'name': 'Bob', 'age': 22, 'city': 'New York'}.\n",
        "details = {'name': 'Bob', 'age': 22, 'city': 'New York'}\n",
        "del details['age']\n",
        "print(details)"
      ]
    },
    {
      "cell_type": "code",
      "execution_count": null,
      "id": "89d2cf14",
      "metadata": {
        "id": "89d2cf14",
        "outputId": "b2f76485-9fab-43b2-a3c5-db976ba54a69"
      },
      "outputs": [
        {
          "name": "stdout",
          "output_type": "stream",
          "text": [
            "There is 'city' key\n"
          ]
        }
      ],
      "source": [
        "# 25. Write a code to check if the key \"city\" exists in the dictionary {'name': 'Alice', 'city': 'Paris'}.\n",
        "dict_details = {'name': 'Alice','city': 'Paris'}\n",
        "if 'city' in dict_details:\n",
        "    print(\"There is 'city' key\")\n",
        "else:\n",
        "    print(\"There is no key name like city\")"
      ]
    },
    {
      "cell_type": "code",
      "execution_count": null,
      "id": "629488b1",
      "metadata": {
        "id": "629488b1",
        "outputId": "9f1d1f41-fceb-4db6-ea93-056f262b94b6"
      },
      "outputs": [
        {
          "name": "stdout",
          "output_type": "stream",
          "text": [
            "List :  [1, 2, 3]\n",
            "Tuple :  ('a', 'b', 'c')\n",
            "Dictionary :  {'a': 1, 'b': 2, 'c': 3}\n"
          ]
        }
      ],
      "source": [
        "# 26. Write a code to create a list, a tuple, and a dictionary, and print them all.\n",
        "list_new = [1,2,3]\n",
        "tuple_new = ('a','b','c')\n",
        "dict_new = {'a':1,'b':2,'c':3}\n",
        "print(\"List : \",list_new)\n",
        "print(\"Tuple : \",tuple_new)\n",
        "print(\"Dictionary : \",dict_new)"
      ]
    },
    {
      "cell_type": "code",
      "execution_count": null,
      "id": "123c4dd6",
      "metadata": {
        "id": "123c4dd6",
        "outputId": "0d4e3838-97cf-487d-816c-031d28101d0e"
      },
      "outputs": [
        {
          "name": "stdout",
          "output_type": "stream",
          "text": [
            "Before sorting: [48, 76, 73, 3, 44]\n",
            "After sorting: [3, 44, 48, 73, 76]\n"
          ]
        }
      ],
      "source": [
        "# 27. Write a code to create a list of 5 random numbers between 1 and 100, sort it in ascending order, and print the result (replaced).\n",
        "import random\n",
        "random_list = random.sample(range(1,101),5)\n",
        "print(\"Before sorting:\",random_list)\n",
        "random_list.sort()\n",
        "print(\"After sorting:\",random_list)"
      ]
    },
    {
      "cell_type": "code",
      "execution_count": null,
      "id": "a1ffe1cf",
      "metadata": {
        "id": "a1ffe1cf",
        "outputId": "50b11013-5a2a-4eb1-b139-7a70d3b8934c"
      },
      "outputs": [
        {
          "name": "stdout",
          "output_type": "stream",
          "text": [
            "pqr\n"
          ]
        }
      ],
      "source": [
        "# 28. Write a code to create a list with strings and print the element at the third index.\n",
        "lst_str = ['abc','xyz','def','pqr']\n",
        "print(lst_str[3])"
      ]
    },
    {
      "cell_type": "code",
      "execution_count": null,
      "id": "82306ba1",
      "metadata": {
        "id": "82306ba1",
        "outputId": "bab38139-3e31-46aa-e622-e841dc019bd4"
      },
      "outputs": [
        {
          "name": "stdout",
          "output_type": "stream",
          "text": [
            "{'a': 1, 'b': 2, 'c': 3, 'd': 4}\n"
          ]
        }
      ],
      "source": [
        "# 29. Write a code to combine two dictionaries into one and print the result.\n",
        "dict_1 = {'a': 1,'b': 2}\n",
        "dict_2 = {'c': 3,'d': 4}\n",
        "dict_3 = dict_1 | dict_2\n",
        "print(dict_3)"
      ]
    },
    {
      "cell_type": "code",
      "execution_count": null,
      "id": "a677eae7",
      "metadata": {
        "id": "a677eae7",
        "outputId": "83781405-e663-4c99-dc57-adeca9b68c9c"
      },
      "outputs": [
        {
          "name": "stdout",
          "output_type": "stream",
          "text": [
            "{'is', 'charmi', 'name', 'my'}\n"
          ]
        }
      ],
      "source": [
        "# 30. Write a code to convert a list of strings into a set.\n",
        "string_list = ['my','name','is','charmi']\n",
        "print(set(string_list))"
      ]
    }
  ],
  "metadata": {
    "kernelspec": {
      "display_name": "Python 3",
      "language": "python",
      "name": "python3"
    },
    "language_info": {
      "codemirror_mode": {
        "name": "ipython",
        "version": 3
      },
      "file_extension": ".py",
      "mimetype": "text/x-python",
      "name": "python",
      "nbconvert_exporter": "python",
      "pygments_lexer": "ipython3",
      "version": "3.13.2"
    },
    "colab": {
      "provenance": []
    }
  },
  "nbformat": 4,
  "nbformat_minor": 5
}